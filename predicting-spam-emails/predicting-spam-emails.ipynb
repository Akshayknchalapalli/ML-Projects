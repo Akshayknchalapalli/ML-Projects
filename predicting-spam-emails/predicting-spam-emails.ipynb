{
 "cells": [
  {
   "cell_type": "markdown",
   "id": "2745cf20",
   "metadata": {},
   "source": [
    "Importing Dependencies"
   ]
  },
  {
   "cell_type": "code",
   "execution_count": 1,
   "id": "f09091b3",
   "metadata": {},
   "outputs": [],
   "source": [
    "import numpy as np\n",
    "import pandas as pd\n",
    "from sklearn.model_selection import train_test_split\n",
    "from sklearn.feature_extraction.text import TfidfVectorizer\n",
    "from sklearn.linear_model import LogisticRegression\n",
    "from sklearn.metrics import accuracy_score"
   ]
  },
  {
   "cell_type": "markdown",
   "id": "bd01310d",
   "metadata": {},
   "source": [
    "Data Collection & Preprocessing"
   ]
  },
  {
   "cell_type": "code",
   "execution_count": 2,
   "id": "c9383efe",
   "metadata": {},
   "outputs": [],
   "source": [
    "#loading the data from csv file to a Panda DataFrame\n",
    "raw_mail_data = pd.read_csv('mail_data.csv')"
   ]
  },
  {
   "cell_type": "code",
   "execution_count": 3,
   "id": "11c5aea0",
   "metadata": {},
   "outputs": [
    {
     "name": "stdout",
     "output_type": "stream",
     "text": [
      "     Category                                            Message\n",
      "0         ham  Go until jurong point, crazy.. Available only ...\n",
      "1         ham                      Ok lar... Joking wif u oni...\n",
      "2        spam  Free entry in 2 a wkly comp to win FA Cup fina...\n",
      "3         ham  U dun say so early hor... U c already then say...\n",
      "4         ham  Nah I don't think he goes to usf, he lives aro...\n",
      "...       ...                                                ...\n",
      "5567     spam  This is the 2nd time we have tried 2 contact u...\n",
      "5568      ham               Will ü b going to esplanade fr home?\n",
      "5569      ham  Pity, * was in mood for that. So...any other s...\n",
      "5570      ham  The guy did some bitching but I acted like i'd...\n",
      "5571      ham                         Rofl. Its true to its name\n",
      "\n",
      "[5572 rows x 2 columns]\n"
     ]
    }
   ],
   "source": [
    "print(raw_mail_data)"
   ]
  },
  {
   "cell_type": "code",
   "execution_count": 4,
   "id": "2195f867",
   "metadata": {},
   "outputs": [],
   "source": [
    "#replace the null values with null string\n",
    "mail_data = raw_mail_data.where(pd.notnull(raw_mail_data),'')"
   ]
  },
  {
   "cell_type": "code",
   "execution_count": 5,
   "id": "4e33e475",
   "metadata": {},
   "outputs": [
    {
     "data": {
      "text/html": [
       "<div>\n",
       "<style scoped>\n",
       "    .dataframe tbody tr th:only-of-type {\n",
       "        vertical-align: middle;\n",
       "    }\n",
       "\n",
       "    .dataframe tbody tr th {\n",
       "        vertical-align: top;\n",
       "    }\n",
       "\n",
       "    .dataframe thead th {\n",
       "        text-align: right;\n",
       "    }\n",
       "</style>\n",
       "<table border=\"1\" class=\"dataframe\">\n",
       "  <thead>\n",
       "    <tr style=\"text-align: right;\">\n",
       "      <th></th>\n",
       "      <th>Category</th>\n",
       "      <th>Message</th>\n",
       "    </tr>\n",
       "  </thead>\n",
       "  <tbody>\n",
       "    <tr>\n",
       "      <th>0</th>\n",
       "      <td>ham</td>\n",
       "      <td>Go until jurong point, crazy.. Available only ...</td>\n",
       "    </tr>\n",
       "    <tr>\n",
       "      <th>1</th>\n",
       "      <td>ham</td>\n",
       "      <td>Ok lar... Joking wif u oni...</td>\n",
       "    </tr>\n",
       "    <tr>\n",
       "      <th>2</th>\n",
       "      <td>spam</td>\n",
       "      <td>Free entry in 2 a wkly comp to win FA Cup fina...</td>\n",
       "    </tr>\n",
       "    <tr>\n",
       "      <th>3</th>\n",
       "      <td>ham</td>\n",
       "      <td>U dun say so early hor... U c already then say...</td>\n",
       "    </tr>\n",
       "    <tr>\n",
       "      <th>4</th>\n",
       "      <td>ham</td>\n",
       "      <td>Nah I don't think he goes to usf, he lives aro...</td>\n",
       "    </tr>\n",
       "  </tbody>\n",
       "</table>\n",
       "</div>"
      ],
      "text/plain": [
       "  Category                                            Message\n",
       "0      ham  Go until jurong point, crazy.. Available only ...\n",
       "1      ham                      Ok lar... Joking wif u oni...\n",
       "2     spam  Free entry in 2 a wkly comp to win FA Cup fina...\n",
       "3      ham  U dun say so early hor... U c already then say...\n",
       "4      ham  Nah I don't think he goes to usf, he lives aro..."
      ]
     },
     "execution_count": 5,
     "metadata": {},
     "output_type": "execute_result"
    }
   ],
   "source": [
    "#printing the first five rows of the dataFrame\n",
    "mail_data.head()"
   ]
  },
  {
   "cell_type": "code",
   "execution_count": 6,
   "id": "a9c21af8",
   "metadata": {},
   "outputs": [
    {
     "data": {
      "text/plain": [
       "(5572, 2)"
      ]
     },
     "execution_count": 6,
     "metadata": {},
     "output_type": "execute_result"
    }
   ],
   "source": [
    "#checking the number of rows & columns\n",
    "mail_data.shape"
   ]
  },
  {
   "cell_type": "markdown",
   "id": "40e33f63",
   "metadata": {},
   "source": [
    "Label Encoding"
   ]
  },
  {
   "cell_type": "code",
   "execution_count": 7,
   "id": "063e5445",
   "metadata": {},
   "outputs": [],
   "source": [
    "#label spam mail as 0 , ham mail as 1\n",
    "mail_data.loc[mail_data['Category'] == 'spam' , 'Category',] = 0\n",
    "mail_data.loc[mail_data['Category'] == 'ham' , 'Category',] = 1"
   ]
  },
  {
   "cell_type": "markdown",
   "id": "fdb571e1",
   "metadata": {},
   "source": [
    "spam --> 0\n",
    "\n",
    "ham --> 1"
   ]
  },
  {
   "cell_type": "code",
   "execution_count": 8,
   "id": "1cb4ebbc",
   "metadata": {},
   "outputs": [],
   "source": [
    "#separarting the data as texts and label\n",
    "\n",
    "x = mail_data['Message']\n",
    "\n",
    "y =mail_data['Category']"
   ]
  },
  {
   "cell_type": "code",
   "execution_count": 9,
   "id": "cef3f513",
   "metadata": {},
   "outputs": [
    {
     "name": "stdout",
     "output_type": "stream",
     "text": [
      "0       Go until jurong point, crazy.. Available only ...\n",
      "1                           Ok lar... Joking wif u oni...\n",
      "2       Free entry in 2 a wkly comp to win FA Cup fina...\n",
      "3       U dun say so early hor... U c already then say...\n",
      "4       Nah I don't think he goes to usf, he lives aro...\n",
      "                              ...                        \n",
      "5567    This is the 2nd time we have tried 2 contact u...\n",
      "5568                 Will ü b going to esplanade fr home?\n",
      "5569    Pity, * was in mood for that. So...any other s...\n",
      "5570    The guy did some bitching but I acted like i'd...\n",
      "5571                           Rofl. Its true to its name\n",
      "Name: Message, Length: 5572, dtype: object\n"
     ]
    }
   ],
   "source": [
    "print(x)"
   ]
  },
  {
   "cell_type": "code",
   "execution_count": 10,
   "id": "7940ae15",
   "metadata": {},
   "outputs": [
    {
     "name": "stdout",
     "output_type": "stream",
     "text": [
      "0       1\n",
      "1       1\n",
      "2       0\n",
      "3       1\n",
      "4       1\n",
      "       ..\n",
      "5567    0\n",
      "5568    1\n",
      "5569    1\n",
      "5570    1\n",
      "5571    1\n",
      "Name: Category, Length: 5572, dtype: object\n"
     ]
    }
   ],
   "source": [
    "print(y)"
   ]
  },
  {
   "cell_type": "markdown",
   "id": "6924ffe9",
   "metadata": {},
   "source": [
    "Spliting the data into train data and test data"
   ]
  },
  {
   "cell_type": "code",
   "execution_count": 11,
   "id": "d959e047",
   "metadata": {},
   "outputs": [],
   "source": [
    "x_train , x_test , y_train , y_test = train_test_split(x , y , test_size = 0.2 , random_state = 2)"
   ]
  },
  {
   "cell_type": "code",
   "execution_count": 12,
   "id": "1b349c08",
   "metadata": {},
   "outputs": [
    {
     "name": "stdout",
     "output_type": "stream",
     "text": [
      "(5572,) (4457,) (1115,)\n"
     ]
    }
   ],
   "source": [
    "print(x.shape , x_train.shape , x_test.shape)"
   ]
  },
  {
   "cell_type": "markdown",
   "id": "a4b9c338",
   "metadata": {},
   "source": [
    "Feature Extraction"
   ]
  },
  {
   "cell_type": "code",
   "execution_count": 13,
   "id": "77f37525",
   "metadata": {},
   "outputs": [],
   "source": [
    "#transform the text data to feature vectors that can be used as input to the LogisticRegression\n",
    "\n",
    "feature_extraction =TfidfVectorizer(min_df = 1 ,stop_words = 'english' ,lowercase = True)\n",
    "\n",
    "x_train_features = feature_extraction. fit_transform(x_train)\n",
    "x_test_features = feature_extraction.transform(x_test)\n",
    "\n",
    "#convert y_train and y_test vaalues as integers\n",
    "\n",
    "y_train =y_train.astype('int')\n",
    "y_test = y_test.astype('int')"
   ]
  },
  {
   "cell_type": "code",
   "execution_count": 14,
   "id": "3d9c128e",
   "metadata": {},
   "outputs": [
    {
     "name": "stdout",
     "output_type": "stream",
     "text": [
      "  (0, 4334)\t0.42941702167641554\n",
      "  (0, 3958)\t0.6161071828926097\n",
      "  (0, 6586)\t0.44333254982109394\n",
      "  (0, 6927)\t0.48935591439341625\n",
      "  (1, 2121)\t0.3573617143022146\n",
      "  (1, 1428)\t0.5869421390016223\n",
      "  (1, 6971)\t0.42812434651556874\n",
      "  (1, 3168)\t0.5869421390016223\n",
      "  (2, 5115)\t0.3408491178137899\n",
      "  (2, 7353)\t0.31988118061968496\n",
      "  (2, 3852)\t0.3408491178137899\n",
      "  (2, 4884)\t0.35749230587184955\n",
      "  (2, 5695)\t0.35749230587184955\n",
      "  (2, 806)\t0.26730249393705324\n",
      "  (2, 5894)\t0.35749230587184955\n",
      "  (2, 1876)\t0.28751725124107325\n",
      "  (2, 6878)\t0.35749230587184955\n",
      "  (3, 197)\t0.36522237107066735\n",
      "  (3, 3723)\t0.16297045459835785\n",
      "  (3, 2435)\t0.26698378141852\n",
      "  (3, 1825)\t0.26858331513730566\n",
      "  (3, 5231)\t0.2266831802864503\n",
      "  (3, 300)\t0.2915969875465198\n",
      "  (3, 7248)\t0.23571908490908416\n",
      "  (3, 5005)\t0.3169028431039865\n",
      "  :\t:\n",
      "  (4454, 2244)\t0.2526916142542512\n",
      "  (4454, 666)\t0.28653660324238944\n",
      "  (4454, 1575)\t0.20946314330145205\n",
      "  (4454, 1094)\t0.24862733340971144\n",
      "  (4454, 5068)\t0.22284357632450164\n",
      "  (4454, 311)\t0.19547195974237946\n",
      "  (4454, 4627)\t0.3831814754124698\n",
      "  (4454, 2879)\t0.28899333825056067\n",
      "  (4454, 5811)\t0.14953570764179772\n",
      "  (4454, 7248)\t0.18493430649182369\n",
      "  (4454, 7297)\t0.1741110805400093\n",
      "  (4455, 7075)\t0.6255253074975946\n",
      "  (4455, 3701)\t0.546620099025937\n",
      "  (4455, 4614)\t0.4677148905542796\n",
      "  (4455, 3084)\t0.3019392955127119\n",
      "  (4456, 3768)\t0.30090411827956587\n",
      "  (4456, 5009)\t0.6018082365591317\n",
      "  (4456, 909)\t0.26924653489772427\n",
      "  (4456, 7032)\t0.2868954144677231\n",
      "  (4456, 2509)\t0.20620887737471993\n",
      "  (4456, 380)\t0.24893867331233713\n",
      "  (4456, 7033)\t0.43304344994724825\n",
      "  (4456, 7376)\t0.20404881687716278\n",
      "  (4456, 5820)\t0.18767970267638426\n",
      "  (4456, 6575)\t0.15362974460832007\n"
     ]
    }
   ],
   "source": [
    "print(x_train_features)"
   ]
  },
  {
   "cell_type": "markdown",
   "id": "278fab4f",
   "metadata": {},
   "source": [
    "Training the model"
   ]
  },
  {
   "cell_type": "markdown",
   "id": "075b210a",
   "metadata": {},
   "source": [
    "Logestic Regression"
   ]
  },
  {
   "cell_type": "code",
   "execution_count": 15,
   "id": "b8ada9e2",
   "metadata": {},
   "outputs": [],
   "source": [
    "model = LogisticRegression()"
   ]
  },
  {
   "cell_type": "code",
   "execution_count": 16,
   "id": "0ef6f297",
   "metadata": {},
   "outputs": [
    {
     "data": {
      "text/html": [
       "<style>#sk-container-id-1 {color: black;}#sk-container-id-1 pre{padding: 0;}#sk-container-id-1 div.sk-toggleable {background-color: white;}#sk-container-id-1 label.sk-toggleable__label {cursor: pointer;display: block;width: 100%;margin-bottom: 0;padding: 0.3em;box-sizing: border-box;text-align: center;}#sk-container-id-1 label.sk-toggleable__label-arrow:before {content: \"▸\";float: left;margin-right: 0.25em;color: #696969;}#sk-container-id-1 label.sk-toggleable__label-arrow:hover:before {color: black;}#sk-container-id-1 div.sk-estimator:hover label.sk-toggleable__label-arrow:before {color: black;}#sk-container-id-1 div.sk-toggleable__content {max-height: 0;max-width: 0;overflow: hidden;text-align: left;background-color: #f0f8ff;}#sk-container-id-1 div.sk-toggleable__content pre {margin: 0.2em;color: black;border-radius: 0.25em;background-color: #f0f8ff;}#sk-container-id-1 input.sk-toggleable__control:checked~div.sk-toggleable__content {max-height: 200px;max-width: 100%;overflow: auto;}#sk-container-id-1 input.sk-toggleable__control:checked~label.sk-toggleable__label-arrow:before {content: \"▾\";}#sk-container-id-1 div.sk-estimator input.sk-toggleable__control:checked~label.sk-toggleable__label {background-color: #d4ebff;}#sk-container-id-1 div.sk-label input.sk-toggleable__control:checked~label.sk-toggleable__label {background-color: #d4ebff;}#sk-container-id-1 input.sk-hidden--visually {border: 0;clip: rect(1px 1px 1px 1px);clip: rect(1px, 1px, 1px, 1px);height: 1px;margin: -1px;overflow: hidden;padding: 0;position: absolute;width: 1px;}#sk-container-id-1 div.sk-estimator {font-family: monospace;background-color: #f0f8ff;border: 1px dotted black;border-radius: 0.25em;box-sizing: border-box;margin-bottom: 0.5em;}#sk-container-id-1 div.sk-estimator:hover {background-color: #d4ebff;}#sk-container-id-1 div.sk-parallel-item::after {content: \"\";width: 100%;border-bottom: 1px solid gray;flex-grow: 1;}#sk-container-id-1 div.sk-label:hover label.sk-toggleable__label {background-color: #d4ebff;}#sk-container-id-1 div.sk-serial::before {content: \"\";position: absolute;border-left: 1px solid gray;box-sizing: border-box;top: 0;bottom: 0;left: 50%;z-index: 0;}#sk-container-id-1 div.sk-serial {display: flex;flex-direction: column;align-items: center;background-color: white;padding-right: 0.2em;padding-left: 0.2em;position: relative;}#sk-container-id-1 div.sk-item {position: relative;z-index: 1;}#sk-container-id-1 div.sk-parallel {display: flex;align-items: stretch;justify-content: center;background-color: white;position: relative;}#sk-container-id-1 div.sk-item::before, #sk-container-id-1 div.sk-parallel-item::before {content: \"\";position: absolute;border-left: 1px solid gray;box-sizing: border-box;top: 0;bottom: 0;left: 50%;z-index: -1;}#sk-container-id-1 div.sk-parallel-item {display: flex;flex-direction: column;z-index: 1;position: relative;background-color: white;}#sk-container-id-1 div.sk-parallel-item:first-child::after {align-self: flex-end;width: 50%;}#sk-container-id-1 div.sk-parallel-item:last-child::after {align-self: flex-start;width: 50%;}#sk-container-id-1 div.sk-parallel-item:only-child::after {width: 0;}#sk-container-id-1 div.sk-dashed-wrapped {border: 1px dashed gray;margin: 0 0.4em 0.5em 0.4em;box-sizing: border-box;padding-bottom: 0.4em;background-color: white;}#sk-container-id-1 div.sk-label label {font-family: monospace;font-weight: bold;display: inline-block;line-height: 1.2em;}#sk-container-id-1 div.sk-label-container {text-align: center;}#sk-container-id-1 div.sk-container {/* jupyter's `normalize.less` sets `[hidden] { display: none; }` but bootstrap.min.css set `[hidden] { display: none !important; }` so we also need the `!important` here to be able to override the default hidden behavior on the sphinx rendered scikit-learn.org. See: https://github.com/scikit-learn/scikit-learn/issues/21755 */display: inline-block !important;position: relative;}#sk-container-id-1 div.sk-text-repr-fallback {display: none;}</style><div id=\"sk-container-id-1\" class=\"sk-top-container\"><div class=\"sk-text-repr-fallback\"><pre>LogisticRegression()</pre><b>In a Jupyter environment, please rerun this cell to show the HTML representation or trust the notebook. <br />On GitHub, the HTML representation is unable to render, please try loading this page with nbviewer.org.</b></div><div class=\"sk-container\" hidden><div class=\"sk-item\"><div class=\"sk-estimator sk-toggleable\"><input class=\"sk-toggleable__control sk-hidden--visually\" id=\"sk-estimator-id-1\" type=\"checkbox\" checked><label for=\"sk-estimator-id-1\" class=\"sk-toggleable__label sk-toggleable__label-arrow\">LogisticRegression</label><div class=\"sk-toggleable__content\"><pre>LogisticRegression()</pre></div></div></div></div></div>"
      ],
      "text/plain": [
       "LogisticRegression()"
      ]
     },
     "execution_count": 16,
     "metadata": {},
     "output_type": "execute_result"
    }
   ],
   "source": [
    "#training the Logistic Regression model with the training data\n",
    "model.fit(x_train_features , y_train)"
   ]
  },
  {
   "cell_type": "markdown",
   "id": "10a4c11a",
   "metadata": {},
   "source": [
    "Model Evalution"
   ]
  },
  {
   "cell_type": "code",
   "execution_count": 17,
   "id": "4a143875",
   "metadata": {},
   "outputs": [],
   "source": [
    "#prediction on training data\n",
    "\n",
    "prediction_on_training_data = model.predict(x_train_features)\n",
    "accuracy_on_training_data = accuracy_score(y_train , prediction_on_training_data)"
   ]
  },
  {
   "cell_type": "code",
   "execution_count": 18,
   "id": "35d51ccd",
   "metadata": {},
   "outputs": [
    {
     "name": "stdout",
     "output_type": "stream",
     "text": [
      "Accuracy on training data:  0.9683643706529056\n"
     ]
    }
   ],
   "source": [
    "print('Accuracy on training data: ' ,accuracy_on_training_data)"
   ]
  },
  {
   "cell_type": "code",
   "execution_count": null,
   "id": "b6de137a",
   "metadata": {},
   "outputs": [],
   "source": [
    "#prediction on test data\n",
    "prediction_on_test_data = model.predict(x_test_features)\n",
    "accuracy_on_test_data = accuracy_score(y_test , prediction_on_test_data)"
   ]
  }
 ],
 "metadata": {
  "kernelspec": {
   "display_name": "My Virtual Environment",
   "language": "python",
   "name": "venv"
  },
  "language_info": {
   "codemirror_mode": {
    "name": "ipython",
    "version": 3
   },
   "file_extension": ".py",
   "mimetype": "text/x-python",
   "name": "python",
   "nbconvert_exporter": "python",
   "pygments_lexer": "ipython3",
   "version": "3.11.5"
  }
 },
 "nbformat": 4,
 "nbformat_minor": 5
}
